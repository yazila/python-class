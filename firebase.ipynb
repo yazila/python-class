{
  "nbformat": 4,
  "nbformat_minor": 0,
  "metadata": {
    "colab": {
      "name": "firebase.ipynb",
      "provenance": [],
      "authorship_tag": "ABX9TyNqpA+4fo96V/Kzl9spAFCJ",
      "include_colab_link": true
    },
    "kernelspec": {
      "name": "python3",
      "display_name": "Python 3"
    }
  },
  "cells": [
    {
      "cell_type": "markdown",
      "metadata": {
        "id": "view-in-github",
        "colab_type": "text"
      },
      "source": [
        "<a href=\"https://colab.research.google.com/github/yazila/python-class/blob/main/firebase.ipynb\" target=\"_parent\"><img src=\"https://colab.research.google.com/assets/colab-badge.svg\" alt=\"Open In Colab\"/></a>"
      ]
    },
    {
      "cell_type": "code",
      "metadata": {
        "colab": {
          "base_uri": "https://localhost:8080/"
        },
        "id": "HbHOVnWyHO13",
        "outputId": "801d6725-c8d8-4317-b57e-4830445eccd5"
      },
      "source": [
        "!pip install firebase"
      ],
      "execution_count": null,
      "outputs": [
        {
          "output_type": "stream",
          "text": [
            "Collecting firebase\n",
            "  Downloading https://files.pythonhosted.org/packages/f8/33/6b2a24e349563f2d279ccc8321f26a9c0d6d2f8205adb68f3046c3ec7a89/firebase-3.0.1-py3-none-any.whl\n",
            "Requirement already satisfied: requests in /usr/local/lib/python3.6/dist-packages (from firebase) (2.23.0)\n",
            "Requirement already satisfied: urllib3!=1.25.0,!=1.25.1,<1.26,>=1.21.1 in /usr/local/lib/python3.6/dist-packages (from requests->firebase) (1.24.3)\n",
            "Requirement already satisfied: idna<3,>=2.5 in /usr/local/lib/python3.6/dist-packages (from requests->firebase) (2.10)\n",
            "Requirement already satisfied: chardet<4,>=3.0.2 in /usr/local/lib/python3.6/dist-packages (from requests->firebase) (3.0.4)\n",
            "Requirement already satisfied: certifi>=2017.4.17 in /usr/local/lib/python3.6/dist-packages (from requests->firebase) (2020.12.5)\n",
            "Installing collected packages: firebase\n",
            "Successfully installed firebase-3.0.1\n"
          ],
          "name": "stdout"
        }
      ]
    },
    {
      "cell_type": "code",
      "metadata": {
        "id": "X3-XEhKyHf8E"
      },
      "source": [
        "import firebase_admin\r\n",
        "from firebase_admin import credentials\r\n",
        "from firebase_admin import firestore"
      ],
      "execution_count": null,
      "outputs": []
    },
    {
      "cell_type": "code",
      "metadata": {
        "id": "B0Pg_qTRL1pn"
      },
      "source": [
        "cred = credentials.Certificate(\"/pythondemo-5a394-firebase-adminsdk-ui0ei-3f5fe2d0ac.json\")\r\n",
        "firebase_admin.initialize_app(cred)"
      ],
      "execution_count": null,
      "outputs": []
    },
    {
      "cell_type": "code",
      "metadata": {
        "id": "BTHyJB1TN16J"
      },
      "source": [
        "db = firestore.client()"
      ],
      "execution_count": 9,
      "outputs": []
    },
    {
      "cell_type": "code",
      "metadata": {
        "id": "OPHEeb5POHS-"
      },
      "source": [
        "def enterDataInDB(name,lastName,age):\r\n",
        "  doc_ref = db.collection(u'users').document()\r\n",
        "  dit={}\r\n",
        "  dit[\"first\"]=name\r\n",
        "  dit[\"last\"]=lastName\r\n",
        "  dit[\"age\"]=age\r\n",
        "  doc_ref.set(dit)"
      ],
      "execution_count": 16,
      "outputs": []
    },
    {
      "cell_type": "code",
      "metadata": {
        "id": "R3n2p4k7Qpy-"
      },
      "source": [
        "enterDataInDB(\"kadeeejath\",\"yazila\",21)"
      ],
      "execution_count": 17,
      "outputs": []
    },
    {
      "cell_type": "code",
      "metadata": {
        "id": "GjUSWa_xRRwq"
      },
      "source": [
        "enterDataInDB(\"kadeeh\",\"famna\",21)"
      ],
      "execution_count": 18,
      "outputs": []
    },
    {
      "cell_type": "code",
      "metadata": {
        "colab": {
          "base_uri": "https://localhost:8080/"
        },
        "id": "HuiP1cMNSLQj",
        "outputId": "d0e3c35c-f15c-4c84-8e8b-04895b539a7d"
      },
      "source": [
        "docs = db.collection(u'users').stream()\r\n",
        "for doc in docs:\r\n",
        "  print(f'{doc.id}=>{doc.to_dict()}')\r\n"
      ],
      "execution_count": 21,
      "outputs": [
        {
          "output_type": "stream",
          "text": [
            "M6OIKB3JiV8bx792280m=>{'last': 'famna', 'first': 'kadeeh', 'age': 21}\n",
            "kUQdamvE8luGbeq9HJu8=>{'last': 'yazila', 'first': 'kadeeejath', 'age': 21}\n"
          ],
          "name": "stdout"
        }
      ]
    }
  ]
}