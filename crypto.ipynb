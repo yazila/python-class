{
  "nbformat": 4,
  "nbformat_minor": 0,
  "metadata": {
    "colab": {
      "name": "crypto.ipynb",
      "provenance": [],
      "authorship_tag": "ABX9TyPL0DJDYikQK0ye2GrGZ52k",
      "include_colab_link": true
    },
    "kernelspec": {
      "name": "python3",
      "display_name": "Python 3"
    }
  },
  "cells": [
    {
      "cell_type": "markdown",
      "metadata": {
        "id": "view-in-github",
        "colab_type": "text"
      },
      "source": [
        "<a href=\"https://colab.research.google.com/github/yazila/python-class/blob/main/crypto.ipynb\" target=\"_parent\"><img src=\"https://colab.research.google.com/assets/colab-badge.svg\" alt=\"Open In Colab\"/></a>"
      ]
    },
    {
      "cell_type": "code",
      "metadata": {
        "colab": {
          "base_uri": "https://localhost:8080/"
        },
        "id": "DFjfgB_DXvNt",
        "outputId": "bbd12264-b6e9-41f5-fbaa-99dc505fceba"
      },
      "source": [
        "!pip install cryptography"
      ],
      "execution_count": 1,
      "outputs": [
        {
          "output_type": "stream",
          "text": [
            "Collecting cryptography\n",
            "\u001b[?25l  Downloading https://files.pythonhosted.org/packages/c9/de/7054df0620b5411ba45480f0261e1fb66a53f3db31b28e3aa52c026e72d9/cryptography-3.3.1-cp36-abi3-manylinux2010_x86_64.whl (2.6MB)\n",
            "\u001b[K     |████████████████████████████████| 2.6MB 5.6MB/s \n",
            "\u001b[?25hRequirement already satisfied: six>=1.4.1 in /usr/local/lib/python3.6/dist-packages (from cryptography) (1.15.0)\n",
            "Requirement already satisfied: cffi>=1.12 in /usr/local/lib/python3.6/dist-packages (from cryptography) (1.14.4)\n",
            "Requirement already satisfied: pycparser in /usr/local/lib/python3.6/dist-packages (from cffi>=1.12->cryptography) (2.20)\n",
            "Installing collected packages: cryptography\n",
            "Successfully installed cryptography-3.3.1\n"
          ],
          "name": "stdout"
        }
      ]
    },
    {
      "cell_type": "code",
      "metadata": {
        "id": "JfFX_rTUX_mg"
      },
      "source": [
        "from cryptography.fernet import Fernet"
      ],
      "execution_count": 2,
      "outputs": []
    },
    {
      "cell_type": "code",
      "metadata": {
        "id": "2ucptV2oZK0O"
      },
      "source": [
        "def genratePassKey():\r\n",
        "\tkey = Fernet.generate_key()\r\n",
        "\tprint(key)\r\n",
        "\tprint(type(key))\r\n",
        "\tabc = open(\"securityKey.key\",'wb')\r\n",
        "\tabc.write(key)\r\n",
        "\tabc.close()"
      ],
      "execution_count": 24,
      "outputs": []
    },
    {
      "cell_type": "code",
      "metadata": {
        "id": "dEV-PFhWZMhb"
      },
      "source": [
        "def getMyKey():\r\n",
        "\tabc = open(\"securityKey.key\",'rb')\r\n",
        "\treturn abc.read()\r\n",
        "\r\n",
        "\t"
      ],
      "execution_count": 25,
      "outputs": []
    },
    {
      "cell_type": "code",
      "metadata": {
        "id": "is-BdHawZeNq"
      },
      "source": [
        "def getContentFromUser():\r\n",
        "\treturn input(\"Enter the Content you want to Encrypt in your python Script\")"
      ],
      "execution_count": 26,
      "outputs": []
    },
    {
      "cell_type": "code",
      "metadata": {
        "id": "NA_LvhZJZl2r"
      },
      "source": [
        "def encryptMessage(message_normal):\r\n",
        "\tkey = getMyKey()\r\n",
        "\tk = Fernet(key)\r\n",
        "\tencrypted_Message = k.encrypt(message_normal)\r\n",
        "\treturn encrypted_Message"
      ],
      "execution_count": 27,
      "outputs": []
    },
    {
      "cell_type": "code",
      "metadata": {
        "id": "0QsGv6koaXSa"
      },
      "source": [
        "def decryptMessage(message_secret):\r\n",
        "\tkey = getMyKey()\r\n",
        "\tk = Fernet(key)\r\n",
        "\tdecrypted_Message = k.decrypt(message_secret)\r\n",
        "\treturn decrypted_Message"
      ],
      "execution_count": 10,
      "outputs": []
    },
    {
      "cell_type": "code",
      "metadata": {
        "colab": {
          "base_uri": "https://localhost:8080/"
        },
        "id": "VbQKYsiiapaS",
        "outputId": "d5e07c89-f985-4afc-c955-98b6acb2ddb2"
      },
      "source": [
        "genratePassKey()"
      ],
      "execution_count": 28,
      "outputs": [
        {
          "output_type": "stream",
          "text": [
            "b'D9CfjK8YVJr83ZJKjqxK68JmIaH8lewv6EN4oammXdw='\n",
            "<class 'bytes'>\n"
          ],
          "name": "stdout"
        }
      ]
    },
    {
      "cell_type": "code",
      "metadata": {
        "colab": {
          "base_uri": "https://localhost:8080/"
        },
        "id": "PAEmaoYtatys",
        "outputId": "300e5db2-2d83-49d5-e245-b7aec7f6a238"
      },
      "source": [
        "data = getContentFromUser()\r\n",
        "encryptMessage(data.encode('utf-8'))"
      ],
      "execution_count": 36,
      "outputs": [
        {
          "output_type": "stream",
          "text": [
            "Enter the Content you want to Encrypt in your python Scripthelo\n"
          ],
          "name": "stdout"
        },
        {
          "output_type": "execute_result",
          "data": {
            "text/plain": [
              "b'gAAAAABf3lT-pChrHdy5K2Fk5-qfuwTSYzJBmeqzgEt4Q_tS46T-LveYZUncTf1L0Or-YCFDamei4WALqpmxzl49lPDmV0JH0g=='"
            ]
          },
          "metadata": {
            "tags": []
          },
          "execution_count": 36
        }
      ]
    },
    {
      "cell_type": "code",
      "metadata": {
        "colab": {
          "base_uri": "https://localhost:8080/"
        },
        "id": "Onbs-63Pa7XA",
        "outputId": "fbaeb806-c9a9-4474-e45a-fa90189b2f03"
      },
      "source": [
        "type(b'gAAAAABf3lT-pChrHdy5K2Fk5-qfuwTSYzJBmeqzgEt4Q_tS46T-LveYZUncTf1L0Or-YCFDamei4WALqpmxzl49lPDmV0JH0g==')"
      ],
      "execution_count": 38,
      "outputs": [
        {
          "output_type": "execute_result",
          "data": {
            "text/plain": [
              "bytes"
            ]
          },
          "metadata": {
            "tags": []
          },
          "execution_count": 38
        }
      ]
    },
    {
      "cell_type": "code",
      "metadata": {
        "colab": {
          "base_uri": "https://localhost:8080/"
        },
        "id": "3oJTwmSyd-uV",
        "outputId": "7d784cc5-3e68-4d2a-e94c-d322a8917486"
      },
      "source": [
        "decryptMessage(b'gAAAAABf3lT-pChrHdy5K2Fk5-qfuwTSYzJBmeqzgEt4Q_tS46T-LveYZUncTf1L0Or-YCFDamei4WALqpmxzl49lPDmV0JH0g==')"
      ],
      "execution_count": 39,
      "outputs": [
        {
          "output_type": "execute_result",
          "data": {
            "text/plain": [
              "b'helo'"
            ]
          },
          "metadata": {
            "tags": []
          },
          "execution_count": 39
        }
      ]
    },
    {
      "cell_type": "code",
      "metadata": {
        "id": "OkS1kYlyfPJk"
      },
      "source": [
        ""
      ],
      "execution_count": null,
      "outputs": []
    }
  ]
}