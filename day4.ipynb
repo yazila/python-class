{
  "nbformat": 4,
  "nbformat_minor": 0,
  "metadata": {
    "colab": {
      "name": "day4.ipynb",
      "provenance": [],
      "authorship_tag": "ABX9TyMWs1RPbDNIsxgoIarNSoii",
      "include_colab_link": true
    },
    "kernelspec": {
      "name": "python3",
      "display_name": "Python 3"
    }
  },
  "cells": [
    {
      "cell_type": "markdown",
      "metadata": {
        "id": "view-in-github",
        "colab_type": "text"
      },
      "source": [
        "<a href=\"https://colab.research.google.com/github/yazila/python-class/blob/main/day4.ipynb\" target=\"_parent\"><img src=\"https://colab.research.google.com/assets/colab-badge.svg\" alt=\"Open In Colab\"/></a>"
      ]
    },
    {
      "cell_type": "markdown",
      "metadata": {
        "id": "D3zfIrz75-VM"
      },
      "source": [
        "# 1"
      ]
    },
    {
      "cell_type": "code",
      "metadata": {
        "id": "n4wXnmkKoDVK"
      },
      "source": [
        "n=open(\"new.txt\",'w')\r\n",
        "n.write(\"I Love LetsUpgrade. \")\r\n",
        "n.close()\r\n",
        "\r\n",
        "\r\n",
        "\r\n"
      ],
      "execution_count": 10,
      "outputs": []
    },
    {
      "cell_type": "code",
      "metadata": {
        "colab": {
          "base_uri": "https://localhost:8080/",
          "height": 38
        },
        "id": "aVIM4Z_vo7Ag",
        "outputId": "02f39c84-54b1-4ab3-dc0e-f25400f012a0"
      },
      "source": [
        "n=open(\"new.txt\",'r')\r\n",
        "content=n.read()\r\n",
        "n.close()\r\n",
        "content\r\n"
      ],
      "execution_count": 8,
      "outputs": [
        {
          "output_type": "execute_result",
          "data": {
            "application/vnd.google.colaboratory.intrinsic+json": {
              "type": "string"
            },
            "text/plain": [
              "'I Love LetsUpgrade. '"
            ]
          },
          "metadata": {
            "tags": []
          },
          "execution_count": 8
        }
      ]
    },
    {
      "cell_type": "code",
      "metadata": {
        "id": "3YpKayn75BMf"
      },
      "source": [
        "n=open(\"new.txt\",'a')\r\n",
        "n.write(\"It is a good platform\")\r\n",
        "n.close()"
      ],
      "execution_count": 9,
      "outputs": []
    },
    {
      "cell_type": "markdown",
      "metadata": {
        "id": "cSAlxKvq6Dk7"
      },
      "source": [
        "# 2"
      ]
    },
    {
      "cell_type": "code",
      "metadata": {
        "id": "JU-DmHlz6Foq"
      },
      "source": [
        "def fact(n):\r\n",
        "  if n==1:\r\n",
        "    return n\r\n",
        "  else:\r\n",
        "    return n*fact(n-1)\r\n"
      ],
      "execution_count": 21,
      "outputs": []
    },
    {
      "cell_type": "code",
      "metadata": {
        "colab": {
          "base_uri": "https://localhost:8080/"
        },
        "id": "7Q8Enkd9Lqsb",
        "outputId": "653c9bf6-f09d-45ee-9d8a-cd3bf5a083e3"
      },
      "source": [
        "n=int(input(\"enter a no \"))\r\n",
        "result=fact(n)\r\n",
        "result"
      ],
      "execution_count": 24,
      "outputs": [
        {
          "output_type": "stream",
          "text": [
            "enter a no 4\n"
          ],
          "name": "stdout"
        },
        {
          "output_type": "execute_result",
          "data": {
            "text/plain": [
              "24"
            ]
          },
          "metadata": {
            "tags": []
          },
          "execution_count": 24
        }
      ]
    }
  ]
}