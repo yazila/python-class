{
  "nbformat": 4,
  "nbformat_minor": 0,
  "metadata": {
    "colab": {
      "name": "EMAIL.ipynb",
      "provenance": [],
      "authorship_tag": "ABX9TyPfcg27/RXfu+ZLkEM3F3yb",
      "include_colab_link": true
    },
    "kernelspec": {
      "name": "python3",
      "display_name": "Python 3"
    }
  },
  "cells": [
    {
      "cell_type": "markdown",
      "metadata": {
        "id": "view-in-github",
        "colab_type": "text"
      },
      "source": [
        "<a href=\"https://colab.research.google.com/github/yazila/python-class/blob/main/EMAIL.ipynb\" target=\"_parent\"><img src=\"https://colab.research.google.com/assets/colab-badge.svg\" alt=\"Open In Colab\"/></a>"
      ]
    },
    {
      "cell_type": "code",
      "metadata": {
        "colab": {
          "base_uri": "https://localhost:8080/"
        },
        "id": "divTc9lPhD6j",
        "outputId": "53339e3b-77bd-4ccd-f148-ac4e48e8ec68"
      },
      "source": [
        "!pip install emails\r\n"
      ],
      "execution_count": 4,
      "outputs": [
        {
          "output_type": "stream",
          "text": [
            "Collecting emails\n",
            "\u001b[?25l  Downloading https://files.pythonhosted.org/packages/55/7e/b648d640d88d31de49e566832aca9cce025c52d6349b0a0fc65e9df1f4c5/emails-0.6-py2.py3-none-any.whl (56kB)\n",
            "\r\u001b[K     |█████▉                          | 10kB 17.7MB/s eta 0:00:01\r\u001b[K     |███████████▋                    | 20kB 22.0MB/s eta 0:00:01\r\u001b[K     |█████████████████▌              | 30kB 25.0MB/s eta 0:00:01\r\u001b[K     |███████████████████████▎        | 40kB 17.5MB/s eta 0:00:01\r\u001b[K     |█████████████████████████████▏  | 51kB 8.6MB/s eta 0:00:01\r\u001b[K     |████████████████████████████████| 61kB 4.2MB/s \n",
            "\u001b[?25hRequirement already satisfied: python-dateutil in /usr/local/lib/python3.6/dist-packages (from emails) (2.8.1)\n",
            "Collecting cssutils\n",
            "\u001b[?25l  Downloading https://files.pythonhosted.org/packages/6b/15/a9fb9010f58d1c55dd0b7779db2334feb9a572d407024f39a60f44293861/cssutils-1.0.2-py3-none-any.whl (406kB)\n",
            "\u001b[K     |████████████████████████████████| 409kB 10.1MB/s \n",
            "\u001b[?25hRequirement already satisfied: chardet in /usr/local/lib/python3.6/dist-packages (from emails) (3.0.4)\n",
            "Collecting premailer\n",
            "  Downloading https://files.pythonhosted.org/packages/cd/ce/74bbdf0eee4265fd3f161d4276b36c9238b802191c2053c8e68578bda4e6/premailer-3.7.0-py2.py3-none-any.whl\n",
            "Requirement already satisfied: lxml in /usr/local/lib/python3.6/dist-packages (from emails) (4.2.6)\n",
            "Requirement already satisfied: requests in /usr/local/lib/python3.6/dist-packages (from emails) (2.23.0)\n",
            "Requirement already satisfied: six>=1.5 in /usr/local/lib/python3.6/dist-packages (from python-dateutil->emails) (1.15.0)\n",
            "Collecting cssselect\n",
            "  Downloading https://files.pythonhosted.org/packages/3b/d4/3b5c17f00cce85b9a1e6f91096e1cc8e8ede2e1be8e96b87ce1ed09e92c5/cssselect-1.1.0-py2.py3-none-any.whl\n",
            "Requirement already satisfied: cachetools in /usr/local/lib/python3.6/dist-packages (from premailer->emails) (4.2.0)\n",
            "Requirement already satisfied: idna<3,>=2.5 in /usr/local/lib/python3.6/dist-packages (from requests->emails) (2.10)\n",
            "Requirement already satisfied: certifi>=2017.4.17 in /usr/local/lib/python3.6/dist-packages (from requests->emails) (2020.12.5)\n",
            "Requirement already satisfied: urllib3!=1.25.0,!=1.25.1,<1.26,>=1.21.1 in /usr/local/lib/python3.6/dist-packages (from requests->emails) (1.24.3)\n",
            "Installing collected packages: cssutils, cssselect, premailer, emails\n",
            "Successfully installed cssselect-1.1.0 cssutils-1.0.2 emails-0.6 premailer-3.7.0\n"
          ],
          "name": "stdout"
        }
      ]
    },
    {
      "cell_type": "code",
      "metadata": {
        "id": "txyFwPd0hPnZ"
      },
      "source": [
        "import emails"
      ],
      "execution_count": 57,
      "outputs": []
    },
    {
      "cell_type": "code",
      "metadata": {
        "id": "Kfj1MH4ZhXCB"
      },
      "source": [
        "\r\n",
        "\r\n",
        "message = emails.html(html=\"<p>Hii! <br> here is your reciept..\",\r\n",
        "                          subject=\"Your EMAIL FROM PYTHON SCRIPT\",\r\n",
        "                          mail_from=('Rowdy Letsupgrade', 'sai@xyz.com'))\r\n",
        "\r\n"
      ],
      "execution_count": 58,
      "outputs": []
    },
    {
      "cell_type": "code",
      "metadata": {
        "id": "8DaryhqzlNoS"
      },
      "source": [
        "mail_via_python = message.send(to='temiw56744@cctyoo.com', \r\n",
        "                               smtp={'host': 'smtp.gmail.com', \r\n",
        "                                     'timeout': 5,\r\n",
        "                                    'port':587,\r\n",
        "                                    'user':'kadeejyazil@gmail.com',\r\n",
        "                                    'password':'kadee@234',\r\n",
        "                                    'tls':True})"
      ],
      "execution_count": 59,
      "outputs": []
    },
    {
      "cell_type": "code",
      "metadata": {
        "id": "SmZVAoR9mEG5",
        "colab": {
          "base_uri": "https://localhost:8080/"
        },
        "outputId": "a2122ff0-992a-48ff-f83f-980308ce59b3"
      },
      "source": [
        "mail_via_python.status_code"
      ],
      "execution_count": 60,
      "outputs": [
        {
          "output_type": "execute_result",
          "data": {
            "text/plain": [
              "250"
            ]
          },
          "metadata": {
            "tags": []
          },
          "execution_count": 60
        }
      ]
    },
    {
      "cell_type": "code",
      "metadata": {
        "id": "W-uu2gsQ58mF"
      },
      "source": [
        "def sendMail(email):\r\n",
        "  mail_via_python = message.send(to=email, \r\n",
        "                               smtp={'host': 'smtp.gmail.com', \r\n",
        "                                     'timeout': 5,\r\n",
        "                                    'port':587,\r\n",
        "                                    'user':'kadeejyazil@gmail.com',\r\n",
        "                                    'password':'kadee@234',\r\n",
        "                                    'tls':True})\r\n",
        "  return mail_via_python.status_code"
      ],
      "execution_count": 62,
      "outputs": []
    },
    {
      "cell_type": "code",
      "metadata": {
        "colab": {
          "base_uri": "https://localhost:8080/"
        },
        "id": "KKdCJpVcCR1B",
        "outputId": "2b32697f-4965-4495-e944-f935758ead10"
      },
      "source": [
        "sendMail(\"yazila55555@gmail.com\")"
      ],
      "execution_count": 63,
      "outputs": [
        {
          "output_type": "execute_result",
          "data": {
            "text/plain": [
              "250"
            ]
          },
          "metadata": {
            "tags": []
          },
          "execution_count": 63
        }
      ]
    },
    {
      "cell_type": "code",
      "metadata": {
        "id": "RXPKoOn0DC-w"
      },
      "source": [
        ""
      ],
      "execution_count": null,
      "outputs": []
    }
  ]
}